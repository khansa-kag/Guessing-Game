{
 "cells": [
  {
   "cell_type": "code",
   "execution_count": null,
   "id": "091c0b87",
   "metadata": {},
   "outputs": [],
   "source": [
    "pip install streamlit"
   ]
  },
  {
   "cell_type": "code",
   "execution_count": null,
   "id": "328c4c81",
   "metadata": {},
   "outputs": [],
   "source": [
    "import pandas as pd\n",
    "import numpy as np \n",
    "import streamlit as st\n",
    "import random"
   ]
  },
  {
   "cell_type": "code",
   "execution_count": null,
   "id": "c6b5f512",
   "metadata": {},
   "outputs": [
    {
     "name": "stdout",
     "output_type": "stream",
     "text": [
      "23\n",
      "Welcome to 'Number Guessing Game'!\n",
      "Can you figure out the secret number hidden between 1 and 50?\n",
      "You have 5 attempts to guess it right.\n",
      "Enter your guess in the box below and click 'Submit' to see if you've cracked the code\n",
      "Good luck!\n"
     ]
    }
   ],
   "source": [
    "secret_number = (random.randint(1, 50))\n",
    "print(secret_number)\n",
    "attempt = 5\n",
    "guess = 0\n",
    "print(\"Welcome to 'Number Guessing Game'!\")\n",
    "print(\"Can you figure out the secret number hidden between 1 and 50?\")\n",
    "print(\"You have 5 attempts to guess it right.\")\n",
    "print(\"Enter your guess in the box below and click 'Submit' to see if you've cracked the code\")\n",
    "print(\"Good luck!\")\n",
    "while attempt > 0:\n",
    "    try:\n",
    "        guess = int(input('Guess a number between 1 and 50:'))\n",
    "        if guess == secret_number:\n",
    "            print(\"Congragulation !\")\n",
    "            break\n",
    "        elif guess>secret_number:\n",
    "            print(\"Your guess is bigger than the secret number\")\n",
    "        else:\n",
    "            print(\"Your guess is smaller than the secret number\")\n",
    "        \n",
    "        attempt-=1\n",
    "        print(f\"Attempts left are: {attempt} \")\n",
    "       \n",
    "        if attempt == 0:\n",
    "            print (f\"The game is Over. The secret number was: {secret_number}\")\n",
    "        else: \n",
    "            pass\n",
    "    except:\n",
    "        print(f\"Invalid input! Please enter a valid number. You have {attempt-1} attempts left\")\n",
    "        attempt-=1\n",
    "#    except:\n",
    " #       print(f\"Invalid input! Please enter a valid number. You have {guess-1} attempts left\")\n",
    "  #      guess-=1\n",
    "\n",
    "    \n",
    " \n",
    "\n"
   ]
  }
 ],
 "metadata": {
  "kernelspec": {
   "display_name": "Python 3 (ipykernel)",
   "language": "python",
   "name": "python3"
  },
  "language_info": {
   "codemirror_mode": {
    "name": "ipython",
    "version": 3
   },
   "file_extension": ".py",
   "mimetype": "text/x-python",
   "name": "python",
   "nbconvert_exporter": "python",
   "pygments_lexer": "ipython3",
   "version": "3.11.5"
  }
 },
 "nbformat": 4,
 "nbformat_minor": 5
}
